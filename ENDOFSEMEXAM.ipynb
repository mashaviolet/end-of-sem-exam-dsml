{
 "cells": [
  {
   "cell_type": "markdown",
   "id": "917a08e5-0edd-4f3d-930d-5be8db730f5e",
   "metadata": {},
   "source": [
    "# 2024/DSC/0056/SS"
   ]
  },
  {
   "cell_type": "raw",
   "id": "202b2c2e-21b8-4bcd-9da6-aeea5b018a7b",
   "metadata": {},
   "source": [
    "VARIATION AND VARIABILITY"
   ]
  },
  {
   "cell_type": "code",
   "execution_count": 8,
   "id": "de4a22c6-f5f3-4cdc-9981-ca74176d3e01",
   "metadata": {},
   "outputs": [],
   "source": [
    "import numpy as np\n",
    "import pandas as pd\n",
    "import matplotlib.pyplot as plt     # importing python libraries\n",
    "import seaborn as sns          "
   ]
  },
  {
   "cell_type": "markdown",
   "id": "4913b5d3-e6f6-4dc8-b73a-0aa8377700ef",
   "metadata": {},
   "source": [
    "# (a) What is a ’typical’ yearly income for these 4,365 people? (3 marks)\n",
    "Typical income is usually represented by mean because it is resistant to outliers\n",
    "but am calculating for both mean and meadian."
   ]
  },
  {
   "cell_type": "code",
   "execution_count": 35,
   "id": "a0cea0be-7bb0-4db2-ad4d-79f68e41e760",
   "metadata": {},
   "outputs": [
    {
     "name": "stdout",
     "output_type": "stream",
     "text": [
      "      Age     Sex           Marital_status  Number_of_children  Family_size  \\\n",
      "0      30    Male  Married, spouse present                   2            4   \n",
      "1      28  Female  Married, spouse present     1 child present            3   \n",
      "2      34    Male  Married, spouse present     1 child present            3   \n",
      "3      58  Female   Married, spouse absent     1 child present            2   \n",
      "4      39    Male     Never married/single  0 children present            1   \n",
      "...   ...     ...                      ...                 ...          ...   \n",
      "4360   67    Male  Married, spouse present  0 children present            2   \n",
      "4361   48    Male  Married, spouse present                   4            6   \n",
      "4362   33    Male   Married, spouse absent  0 children present            1   \n",
      "4363   22  Female     Never married/single  0 children present            2   \n",
      "4364   49  Female  Married, spouse present                   2            4   \n",
      "\n",
      "                    Education-degree_recode  \\\n",
      "0         Masterâ€™s or professional degree   \n",
      "1         Masterâ€™s or professional degree   \n",
      "2                       Bachelorâ€™s degree   \n",
      "3     1 or more years of college, no degree   \n",
      "4                       Bachelorâ€™s degree   \n",
      "...                                     ...   \n",
      "4360                    Bachelorâ€™s degree   \n",
      "4361                   Associateâ€™s degree   \n",
      "4362                   Associateâ€™s degree   \n",
      "4363  1 or more years of college, no degree   \n",
      "4364      Masterâ€™s or professional degree   \n",
      "\n",
      "                  Education-degree_recode 2  \\\n",
      "0             Master or professional degree   \n",
      "1             Master or professional degree   \n",
      "2                           Bachelor degree   \n",
      "3     1 or more years of college, no degree   \n",
      "4                           Bachelor degree   \n",
      "...                                     ...   \n",
      "4360                        Bachelor degree   \n",
      "4361                       Associate degree   \n",
      "4362                       Associate degree   \n",
      "4363  1 or more years of college, no degree   \n",
      "4364          Master or professional degree   \n",
      "\n",
      "                                  Education Race_ethnicity-multi_recode  \\\n",
      "0      Master or PhD or professional degree          Non-Hispanic White   \n",
      "1      Master or PhD or professional degree          Non-Hispanic White   \n",
      "2              Associate or Bachelor degree          Non-Hispanic White   \n",
      "3     1 or more years of college, no degree          Non-Hispanic White   \n",
      "4              Associate or Bachelor degree          Non-Hispanic White   \n",
      "...                                     ...                         ...   \n",
      "4360           Associate or Bachelor degree          Non-Hispanic White   \n",
      "4361           Associate or Bachelor degree          Non-Hispanic White   \n",
      "4362           Associate or Bachelor degree          Non-Hispanic Black   \n",
      "4363  1 or more years of college, no degree          Non-Hispanic White   \n",
      "4364   Master or PhD or professional degree          Non-Hispanic White   \n",
      "\n",
      "      Immigrate-year                          Birthplace_recode  \\\n",
      "0                  0  U.S. state, territory, or outlying region   \n",
      "1                  0  U.S. state, territory, or outlying region   \n",
      "2                  0  U.S. state, territory, or outlying region   \n",
      "3                  0  U.S. state, territory, or outlying region   \n",
      "4                  0  U.S. state, territory, or outlying region   \n",
      "...              ...                                        ...   \n",
      "4360               0  U.S. state, territory, or outlying region   \n",
      "4361               0  U.S. state, territory, or outlying region   \n",
      "4362            2017                                     Africa   \n",
      "4363               0  U.S. state, territory, or outlying region   \n",
      "4364               0  U.S. state, territory, or outlying region   \n",
      "\n",
      "                Speaks_English Employment_status  Income-wages Region_recode  \\\n",
      "0     Yes, speaks only English          Employed         63000         South   \n",
      "1     Yes, speaks only English          Employed         46000         South   \n",
      "2     Yes, speaks only English          Employed         45000         South   \n",
      "3     Yes, speaks only English          Employed         55000         South   \n",
      "4     Yes, speaks only English          Employed         12000         South   \n",
      "...                        ...               ...           ...           ...   \n",
      "4360  Yes, speaks only English          Employed         40000       Midwest   \n",
      "4361  Yes, speaks only English          Employed         65000       Midwest   \n",
      "4362     Yes, speaks very well          Employed         45000       Midwest   \n",
      "4363  Yes, speaks only English          Employed           500       Midwest   \n",
      "4364  Yes, speaks only English          Employed        498000       Midwest   \n",
      "\n",
      "     Region-division_recode       Moved  Year         state  \n",
      "0        East South Central  Same house  2020     Tennessee  \n",
      "1        East South Central  Same house  2020     Tennessee  \n",
      "2        East South Central  Same house  2020     Tennessee  \n",
      "3        East South Central  Same house  2020     Tennessee  \n",
      "4        East South Central  Same house  2020     Tennessee  \n",
      "...                     ...         ...   ...           ...  \n",
      "4360     West North Central  Same house  2020  North Dakota  \n",
      "4361     West North Central  Same house  2020  North Dakota  \n",
      "4362     West North Central  Same house  2020  North Dakota  \n",
      "4363     West North Central  Same house  2020  North Dakota  \n",
      "4364     West North Central  Same house  2020  North Dakota  \n",
      "\n",
      "[4365 rows x 19 columns]\n"
     ]
    }
   ],
   "source": [
    "typical_yearly_income = pd.read_excel('Wages 2020Census cleaned.xlsx')\n",
    "print(typical_yearly_income)"
   ]
  },
  {
   "cell_type": "code",
   "execution_count": 36,
   "id": "66a892d5-1640-4ed8-b28f-0932ac48739e",
   "metadata": {},
   "outputs": [
    {
     "name": "stdout",
     "output_type": "stream",
     "text": [
      "58704.16494845361\n"
     ]
    }
   ],
   "source": [
    "typical_income_mean = typical_yearly_income['Income-wages'].mean() #finding the mean of yearly income\n",
    "print(typical_income_mean)"
   ]
  },
  {
   "cell_type": "code",
   "execution_count": 37,
   "id": "01555ca4-cc9b-4bec-ac62-cc6fd076e6aa",
   "metadata": {},
   "outputs": [
    {
     "name": "stdout",
     "output_type": "stream",
     "text": [
      "41000.0\n"
     ]
    }
   ],
   "source": [
    "typical_income_median = typical_yearly_income['Income-wages'].median() #finding the mean of yearly income\n",
    "print(typical_income_median)"
   ]
  },
  {
   "cell_type": "markdown",
   "id": "5d934713-7601-4712-a7f3-b0d6f30539b5",
   "metadata": {},
   "source": [
    "# b.To know whether the yearly income varies i will have to calculate their standard deviation"
   ]
  },
  {
   "cell_type": "code",
   "execution_count": 38,
   "id": "4f038a5c-b7fe-4f2f-827b-a76e3146d589",
   "metadata": {},
   "outputs": [
    {
     "name": "stdout",
     "output_type": "stream",
     "text": [
      "68338.0614351565\n"
     ]
    }
   ],
   "source": [
    "typical_income_std = typical_yearly_income['Income-wages'].std() #finding the standard devition and there is variation because the standard deviation is not zero.\n",
    "print(typical_income_std)   #the values of yearly income are not the same\n"
   ]
  },
  {
   "cell_type": "code",
   "execution_count": 39,
   "id": "d2670e44-f06a-46c1-ac00-5227275e95d2",
   "metadata": {},
   "outputs": [
    {
     "name": "stdout",
     "output_type": "stream",
     "text": [
      "68338.0614351565\n",
      "4670090640.715224\n"
     ]
    }
   ],
   "source": [
    "income_std = typical_yearly_income['Income-wages'].std()\n",
    "income_var = typical_yearly_income['Income-wages'].var() #the yearly income vary significantly as indicated by standard deviation value\n",
    "print(income_std)                                        #a large varience  confirms a noticeable variability\n",
    "print(income_var)"
   ]
  },
  {
   "cell_type": "markdown",
   "id": "777f517c-447d-4025-82d6-5a008ff4a62b",
   "metadata": {},
   "source": [
    "# c. What would the values of the standard deviation and IQR be if there was no variability inyearly income for these 4,365 people? (5 marks)"
   ]
  },
  {
   "cell_type": "markdown",
   "id": "13ca351f-022c-480b-a97c-517fcb5aa47c",
   "metadata": {},
   "source": [
    "If there is no varaibility in yearly income the standard deviation will be zero and inter-quatile range will be zero.\n",
    "When the standard deviation is zero , it means there is no variation in the yearly income and every value is identical.\n",
    "The IQR is the rage of the middle half of a distribution. If there is no variability the IQR is zero.\n",
    "Variability describes how far apart data points are from each other and from the center of a distribution. When all income-wage values are the same there is zero variabilty and the graph of the distribution will have  a zero width. "
   ]
  },
  {
   "cell_type": "markdown",
   "id": "58a2165c-172e-4bed-85a9-72b7933f3ac6",
   "metadata": {},
   "source": [
    "# d.What would the values of the mean, median, Q1, Q3, minimum and maximum yearly incomes be if there was no variability?"
   ]
  },
  {
   "cell_type": "raw",
   "id": "3d3e29d0-ec7b-4a87-a0ad-50589cc8034b",
   "metadata": {},
   "source": [
    "# explanation; with no varaiability all values are identical.\n",
    "therefore mean= median = Q1 = Q2 = MIN = MAX = a constant value"
   ]
  },
  {
   "cell_type": "raw",
   "id": "12b66696-8971-4b10-8ee4-65d9c1366aa2",
   "metadata": {},
   "source": [
    "since all the data points are the same then there's no variability\n",
    "variance = "
   ]
  },
  {
   "cell_type": "markdown",
   "id": "8e1a92c8-5b54-48d9-997f-27cae762458d",
   "metadata": {},
   "source": [
    "# (e) What do you think are some possible causes or reasons or potential sources of the variability inthe yearly incomes of these 4,365 people? (Hint: Perform bivariate analysis leveraging boxplotsbetween response variable and education level, region of the US. Provide an explanation of yourthinking with numerical support) (5 marks)"
   ]
  },
  {
   "cell_type": "code",
   "execution_count": 41,
   "id": "fc88d84f-94c8-40ad-890b-8613eaad61c0",
   "metadata": {},
   "outputs": [
    {
     "data": {
      "image/png": "[encoded data removed]",
      "text/plain": [
       "<Figure size 640x480 with 1 Axes>"
      ]
     },
     "metadata": {},
     "output_type": "display_data"
    }
   ],
   "source": [
    "#Box plot of income-wages by education level\n",
    "sns.boxplot(data = typical_yearly_income , x= 'Education', y = 'Income-wages')\n",
    "plt.title('Income-wage by education level')\n",
    "plt.show()\n",
    "            "
   ]
  },
  {
   "cell_type": "code",
   "execution_count": 43,
   "id": "613b726e-606d-47cb-aeaf-134dd49359a6",
   "metadata": {},
   "outputs": [
    {
     "data": {
      "image/png": "[encoded data removed]",
      "text/plain": [
       "<Figure size 640x480 with 1 Axes>"
      ]
     },
     "metadata": {},
     "output_type": "display_data"
    }
   ],
   "source": [
    "#Boxplot of income-wages by region\n",
    "sns.boxplot(data = typical_yearly_income, x = 'Region_recode',y = 'Income-wages')\n",
    "plt.title('Income-wage by region')\n",
    "plt.show()"
   ]
  },
  {
   "cell_type": "raw",
   "id": "2ca20f56-2e4c-453d-aa2d-c89f6c29a5f1",
   "metadata": {},
   "source": [
    "# variability in income-wages may be influence by differences in education level, as higher education often leads to higher earnings.Similarly regional economics differences could contribute to income variability"
   ]
  },
  {
   "cell_type": "markdown",
   "id": "3031d457-ebd8-4b62-94a7-17b9bfd9557c",
   "metadata": {},
   "source": [
    "# 2. Exploratory Data Analysis"
   ]
  },
  {
   "cell_type": "markdown",
   "id": "5536b077-35e9-480c-a2d4-5577045c5e29",
   "metadata": {},
   "source": [
    "# (a) For each gender, which major has the highest total study hours per week? (2 marks)"
   ]
  },
  {
   "cell_type": "code",
   "execution_count": 45,
   "id": "6edb2141-3ca2-4f0f-8abf-b704362e2b1b",
   "metadata": {},
   "outputs": [],
   "source": [
    "student_data = pd.read_csv('student_performance_data.csv')"
   ]
  },
  {
   "cell_type": "code",
   "execution_count": 46,
   "id": "4aa3c38a-77bc-4f17-9a2c-bb9c33e5de1f",
   "metadata": {},
   "outputs": [
    {
     "data": {
      "text/html": [
       "<div>\n",
       "<style scoped>\n",
       "    .dataframe tbody tr th:only-of-type {\n",
       "        vertical-align: middle;\n",
       "    }\n",
       "\n",
       "    .dataframe tbody tr th {\n",
       "        vertical-align: top;\n",
       "    }\n",
       "\n",
       "    .dataframe thead th {\n",
       "        text-align: right;\n",
       "    }\n",
       "</style>\n",
       "<table border=\"1\" class=\"dataframe\">\n",
       "  <thead>\n",
       "    <tr style=\"text-align: right;\">\n",
       "      <th></th>\n",
       "      <th>StudentID</th>\n",
       "      <th>Gender</th>\n",
       "      <th>Age</th>\n",
       "      <th>StudyHoursPerWeek</th>\n",
       "      <th>AttendanceRate</th>\n",
       "      <th>GPA</th>\n",
       "      <th>Major</th>\n",
       "      <th>PartTimeJob</th>\n",
       "      <th>ExtraCurricularActivities</th>\n",
       "    </tr>\n",
       "  </thead>\n",
       "  <tbody>\n",
       "    <tr>\n",
       "      <th>0</th>\n",
       "      <td>1</td>\n",
       "      <td>Male</td>\n",
       "      <td>24</td>\n",
       "      <td>37</td>\n",
       "      <td>90.75</td>\n",
       "      <td>3.47</td>\n",
       "      <td>Arts</td>\n",
       "      <td>Yes</td>\n",
       "      <td>No</td>\n",
       "    </tr>\n",
       "    <tr>\n",
       "      <th>1</th>\n",
       "      <td>2</td>\n",
       "      <td>Female</td>\n",
       "      <td>22</td>\n",
       "      <td>37</td>\n",
       "      <td>74.90</td>\n",
       "      <td>2.32</td>\n",
       "      <td>Education</td>\n",
       "      <td>No</td>\n",
       "      <td>No</td>\n",
       "    </tr>\n",
       "    <tr>\n",
       "      <th>2</th>\n",
       "      <td>3</td>\n",
       "      <td>Male</td>\n",
       "      <td>22</td>\n",
       "      <td>10</td>\n",
       "      <td>53.36</td>\n",
       "      <td>2.38</td>\n",
       "      <td>Business</td>\n",
       "      <td>No</td>\n",
       "      <td>No</td>\n",
       "    </tr>\n",
       "    <tr>\n",
       "      <th>3</th>\n",
       "      <td>4</td>\n",
       "      <td>Male</td>\n",
       "      <td>24</td>\n",
       "      <td>10</td>\n",
       "      <td>70.26</td>\n",
       "      <td>3.46</td>\n",
       "      <td>Science</td>\n",
       "      <td>Yes</td>\n",
       "      <td>No</td>\n",
       "    </tr>\n",
       "    <tr>\n",
       "      <th>4</th>\n",
       "      <td>5</td>\n",
       "      <td>Male</td>\n",
       "      <td>18</td>\n",
       "      <td>19</td>\n",
       "      <td>74.87</td>\n",
       "      <td>2.31</td>\n",
       "      <td>Education</td>\n",
       "      <td>Yes</td>\n",
       "      <td>No</td>\n",
       "    </tr>\n",
       "    <tr>\n",
       "      <th>...</th>\n",
       "      <td>...</td>\n",
       "      <td>...</td>\n",
       "      <td>...</td>\n",
       "      <td>...</td>\n",
       "      <td>...</td>\n",
       "      <td>...</td>\n",
       "      <td>...</td>\n",
       "      <td>...</td>\n",
       "      <td>...</td>\n",
       "    </tr>\n",
       "    <tr>\n",
       "      <th>495</th>\n",
       "      <td>496</td>\n",
       "      <td>Male</td>\n",
       "      <td>22</td>\n",
       "      <td>37</td>\n",
       "      <td>76.61</td>\n",
       "      <td>2.97</td>\n",
       "      <td>Science</td>\n",
       "      <td>No</td>\n",
       "      <td>No</td>\n",
       "    </tr>\n",
       "    <tr>\n",
       "      <th>496</th>\n",
       "      <td>497</td>\n",
       "      <td>Male</td>\n",
       "      <td>23</td>\n",
       "      <td>11</td>\n",
       "      <td>56.29</td>\n",
       "      <td>3.20</td>\n",
       "      <td>Science</td>\n",
       "      <td>No</td>\n",
       "      <td>No</td>\n",
       "    </tr>\n",
       "    <tr>\n",
       "      <th>497</th>\n",
       "      <td>498</td>\n",
       "      <td>Female</td>\n",
       "      <td>20</td>\n",
       "      <td>6</td>\n",
       "      <td>56.64</td>\n",
       "      <td>3.20</td>\n",
       "      <td>Science</td>\n",
       "      <td>No</td>\n",
       "      <td>Yes</td>\n",
       "    </tr>\n",
       "    <tr>\n",
       "      <th>498</th>\n",
       "      <td>499</td>\n",
       "      <td>Male</td>\n",
       "      <td>22</td>\n",
       "      <td>18</td>\n",
       "      <td>57.18</td>\n",
       "      <td>2.05</td>\n",
       "      <td>Business</td>\n",
       "      <td>No</td>\n",
       "      <td>Yes</td>\n",
       "    </tr>\n",
       "    <tr>\n",
       "      <th>499</th>\n",
       "      <td>500</td>\n",
       "      <td>Female</td>\n",
       "      <td>24</td>\n",
       "      <td>21</td>\n",
       "      <td>96.99</td>\n",
       "      <td>2.64</td>\n",
       "      <td>Engineering</td>\n",
       "      <td>No</td>\n",
       "      <td>No</td>\n",
       "    </tr>\n",
       "  </tbody>\n",
       "</table>\n",
       "<p>500 rows × 9 columns</p>\n",
       "</div>"
      ],
      "text/plain": [
       "     StudentID  Gender  Age  StudyHoursPerWeek  AttendanceRate   GPA  \\\n",
       "0            1    Male   24                 37           90.75  3.47   \n",
       "1            2  Female   22                 37           74.90  2.32   \n",
       "2            3    Male   22                 10           53.36  2.38   \n",
       "3            4    Male   24                 10           70.26  3.46   \n",
       "4            5    Male   18                 19           74.87  2.31   \n",
       "..         ...     ...  ...                ...             ...   ...   \n",
       "495        496    Male   22                 37           76.61  2.97   \n",
       "496        497    Male   23                 11           56.29  3.20   \n",
       "497        498  Female   20                  6           56.64  3.20   \n",
       "498        499    Male   22                 18           57.18  2.05   \n",
       "499        500  Female   24                 21           96.99  2.64   \n",
       "\n",
       "           Major PartTimeJob ExtraCurricularActivities  \n",
       "0           Arts         Yes                        No  \n",
       "1      Education          No                        No  \n",
       "2       Business          No                        No  \n",
       "3        Science         Yes                        No  \n",
       "4      Education         Yes                        No  \n",
       "..           ...         ...                       ...  \n",
       "495      Science          No                        No  \n",
       "496      Science          No                        No  \n",
       "497      Science          No                       Yes  \n",
       "498     Business          No                       Yes  \n",
       "499  Engineering          No                        No  \n",
       "\n",
       "[500 rows x 9 columns]"
      ]
     },
     "execution_count": 46,
     "metadata": {},
     "output_type": "execute_result"
    }
   ],
   "source": [
    "student_data"
   ]
  },
  {
   "cell_type": "code",
   "execution_count": 49,
   "id": "156d42e7-334c-41fe-89d8-da75249e4aa3",
   "metadata": {},
   "outputs": [
    {
     "name": "stdout",
     "output_type": "stream",
     "text": [
      "Gender\n",
      "Female    (Female, Business)\n",
      "Male       (Male, Education)\n",
      "Name: StudyHoursPerWeek, dtype: object\n"
     ]
    }
   ],
   "source": [
    "grouped_data = student_data.groupby(['Gender','Major'])['StudyHoursPerWeek'].sum() # grouping data by gender and major and suming the study hours per week\n",
    "result = grouped_data.groupby('Gender').idxmax()  # identifying the major wwith the highest study hours for each gender\n",
    "print(result)"
   ]
  },
  {
   "cell_type": "markdown",
   "id": "cf9b75ad-9cb1-40bb-aaa6-f106c24d44f8",
   "metadata": {},
   "source": [
    "# (b) Which gender has the highest overall average attendance rate? Return the gender and the averageattendance rate? (3 marks)\n"
   ]
  },
  {
   "cell_type": "code",
   "execution_count": 51,
   "id": "b1ae3e8c-6e9c-48fa-bca6-2b083fb46531",
   "metadata": {},
   "outputs": [
    {
     "name": "stdout",
     "output_type": "stream",
     "text": [
      "Female 75.9257421875\n"
     ]
    }
   ],
   "source": [
    "# group the data by gender\n",
    "average_attendance = student_data.groupby('Gender')['AttendanceRate'].mean() # calculating the mean attendance for each gender\n",
    "max_gender = average_attendance.idxmax()     # calculating gender which has the highest average attendance rate\n",
    "max_value = average_attendance.max()\n",
    "print(max_gender,max_value)"
   ]
  },
  {
   "cell_type": "markdown",
   "id": "02bfba2b-c863-463b-97d0-946e83bbe286",
   "metadata": {},
   "source": [
    "# (c) What percentage of students have part-time jobs, and what percentage have no part-time jobs? (5 marks)"
   ]
  },
  {
   "cell_type": "code",
   "execution_count": 52,
   "id": "39a72006-469a-4e18-aca6-0716999e8e9f",
   "metadata": {},
   "outputs": [
    {
     "name": "stdout",
     "output_type": "stream",
     "text": [
      "PartTimeJob\n",
      "Yes    53.6\n",
      "No     46.4\n",
      "Name: count, dtype: float64\n"
     ]
    }
   ],
   "source": [
    "# count the number of students with and without part time jobs\n",
    "student_total = len(student_data)\n",
    "part_time_counts = student_data['PartTimeJob'].value_counts() #calculating percentage based on total number of students.\n",
    "part_time_percentage = (part_time_counts/student_total)*100\n",
    "print(part_time_percentage)"
   ]
  },
  {
   "cell_type": "markdown",
   "id": "e2b2958d-254a-48a1-a02b-6cbedc385840",
   "metadata": {},
   "source": [
    "# (d) For each gender, what is the mean GPA and variance of age? (5 marks)"
   ]
  },
  {
   "cell_type": "code",
   "execution_count": 59,
   "id": "d925dffc-98b0-459c-aeb2-6434af21b698",
   "metadata": {},
   "outputs": [
    {
     "name": "stdout",
     "output_type": "stream",
     "text": [
      "        mean_gpa  age_varience\n",
      "Gender                        \n",
      "Female  2.995352      4.005637\n",
      "Male    2.974467      3.960130\n"
     ]
    }
   ],
   "source": [
    "# group the data by gender\n",
    "mean_and_variance = student_data.groupby('Gender').agg(\n",
    "    mean_gpa = ('GPA','mean'),\n",
    "    age_varience = ('Age','var'))\n",
    "print(mean_and_variance)"
   ]
  },
  {
   "cell_type": "markdown",
   "id": "5a2361d3-55ab-455c-ad5c-a542c365e1bd",
   "metadata": {},
   "source": [
    "# (e) Create a visualization that effectively shows if there is a relationship between any two variablesof your choice. Your answer must be given in a single pipe. (5 marks)"
   ]
  },
  {
   "cell_type": "code",
   "execution_count": 64,
   "id": "7e13bc41-ff76-4bd3-ae68-347f5bc61c8f",
   "metadata": {},
   "outputs": [
    {
     "data": {
      "image/png": "[encoded data removed]",
      "text/plain": [
       "<Figure size 640x480 with 1 Axes>"
      ]
     },
     "metadata": {},
     "output_type": "display_data"
    }
   ],
   "source": [
    "sns.scatterplot(data = student_data, x= 'StudyHoursPerWeek', y='GPA')\n",
    "plt.title('Relationship between study hours per week and GPA')\n",
    "plt.show()"
   ]
  },
  {
   "cell_type": "markdown",
   "id": "36626fbd-3f32-41b2-aa6e-4396fb19de31",
   "metadata": {},
   "source": [
    "# 3. Linear regression"
   ]
  },
  {
   "cell_type": "markdown",
   "id": "87e9d818-332e-496f-9d62-65b15860c5a6",
   "metadata": {},
   "source": [
    "# (a) Briefly describe the steps involved in fitting a linear regression in Python? (2 marks)\n"
   ]
  },
  {
   "cell_type": "raw",
   "id": "09710cac-5ab0-4087-ac0e-b95b676f350a",
   "metadata": {},
   "source": [
    "-importing libraries forexample pandas, numpy and scikit-learn\n",
    "-importing data sets\n",
    "-checking for any data missing points\n",
    "-split the data set\n",
    "\n",
    "-train the model\n",
    "-evaluate the model"
   ]
  },
  {
   "cell_type": "markdown",
   "id": "e33e308a-3b9b-410e-9052-74e333a742cd",
   "metadata": {},
   "source": [
    "# (b) What assumptions does the linear regression take into consideration? (3 marks)\n"
   ]
  },
  {
   "cell_type": "raw",
   "id": "9b8c44d1-d76a-4407-86c9-63e081a35829",
   "metadata": {},
   "source": [
    "-Linearity ; the relationship between the predictor and the outcome is linear\n",
    "-Normality ; the errors are normally distributed\n",
    "-Independence ; the variables are independent of each other"
   ]
  },
  {
   "cell_type": "markdown",
   "id": "1eb0d57a-4ab0-4dac-b441-0b88a909d6e6",
   "metadata": {},
   "source": [
    "# (c) Using the 2020 US Census dataset, train a simple linear regression predicting a continuous tar\u0002get variable using the scikit-learn library. From the output coefficients, generate an equation representing the trained simple linear regression? (3 amrks)"
   ]
  },
  {
   "cell_type": "code",
   "execution_count": 65,
   "id": "bb790ce0-e437-4e7d-b1f9-84bcf815ee05",
   "metadata": {},
   "outputs": [
    {
     "name": "stdout",
     "output_type": "stream",
     "text": [
      "      Age     Sex           Marital_status  Number_of_children  Family_size  \\\n",
      "0      30    Male  Married, spouse present                   2            4   \n",
      "1      28  Female  Married, spouse present     1 child present            3   \n",
      "2      34    Male  Married, spouse present     1 child present            3   \n",
      "3      58  Female   Married, spouse absent     1 child present            2   \n",
      "4      39    Male     Never married/single  0 children present            1   \n",
      "...   ...     ...                      ...                 ...          ...   \n",
      "4360   67    Male  Married, spouse present  0 children present            2   \n",
      "4361   48    Male  Married, spouse present                   4            6   \n",
      "4362   33    Male   Married, spouse absent  0 children present            1   \n",
      "4363   22  Female     Never married/single  0 children present            2   \n",
      "4364   49  Female  Married, spouse present                   2            4   \n",
      "\n",
      "                    Education-degree_recode  \\\n",
      "0         Masterâ€™s or professional degree   \n",
      "1         Masterâ€™s or professional degree   \n",
      "2                       Bachelorâ€™s degree   \n",
      "3     1 or more years of college, no degree   \n",
      "4                       Bachelorâ€™s degree   \n",
      "...                                     ...   \n",
      "4360                    Bachelorâ€™s degree   \n",
      "4361                   Associateâ€™s degree   \n",
      "4362                   Associateâ€™s degree   \n",
      "4363  1 or more years of college, no degree   \n",
      "4364      Masterâ€™s or professional degree   \n",
      "\n",
      "                  Education-degree_recode 2  \\\n",
      "0             Master or professional degree   \n",
      "1             Master or professional degree   \n",
      "2                           Bachelor degree   \n",
      "3     1 or more years of college, no degree   \n",
      "4                           Bachelor degree   \n",
      "...                                     ...   \n",
      "4360                        Bachelor degree   \n",
      "4361                       Associate degree   \n",
      "4362                       Associate degree   \n",
      "4363  1 or more years of college, no degree   \n",
      "4364          Master or professional degree   \n",
      "\n",
      "                                  Education Race_ethnicity-multi_recode  \\\n",
      "0      Master or PhD or professional degree          Non-Hispanic White   \n",
      "1      Master or PhD or professional degree          Non-Hispanic White   \n",
      "2              Associate or Bachelor degree          Non-Hispanic White   \n",
      "3     1 or more years of college, no degree          Non-Hispanic White   \n",
      "4              Associate or Bachelor degree          Non-Hispanic White   \n",
      "...                                     ...                         ...   \n",
      "4360           Associate or Bachelor degree          Non-Hispanic White   \n",
      "4361           Associate or Bachelor degree          Non-Hispanic White   \n",
      "4362           Associate or Bachelor degree          Non-Hispanic Black   \n",
      "4363  1 or more years of college, no degree          Non-Hispanic White   \n",
      "4364   Master or PhD or professional degree          Non-Hispanic White   \n",
      "\n",
      "      Immigrate-year                          Birthplace_recode  \\\n",
      "0                  0  U.S. state, territory, or outlying region   \n",
      "1                  0  U.S. state, territory, or outlying region   \n",
      "2                  0  U.S. state, territory, or outlying region   \n",
      "3                  0  U.S. state, territory, or outlying region   \n",
      "4                  0  U.S. state, territory, or outlying region   \n",
      "...              ...                                        ...   \n",
      "4360               0  U.S. state, territory, or outlying region   \n",
      "4361               0  U.S. state, territory, or outlying region   \n",
      "4362            2017                                     Africa   \n",
      "4363               0  U.S. state, territory, or outlying region   \n",
      "4364               0  U.S. state, territory, or outlying region   \n",
      "\n",
      "                Speaks_English Employment_status  Income-wages Region_recode  \\\n",
      "0     Yes, speaks only English          Employed         63000         South   \n",
      "1     Yes, speaks only English          Employed         46000         South   \n",
      "2     Yes, speaks only English          Employed         45000         South   \n",
      "3     Yes, speaks only English          Employed         55000         South   \n",
      "4     Yes, speaks only English          Employed         12000         South   \n",
      "...                        ...               ...           ...           ...   \n",
      "4360  Yes, speaks only English          Employed         40000       Midwest   \n",
      "4361  Yes, speaks only English          Employed         65000       Midwest   \n",
      "4362     Yes, speaks very well          Employed         45000       Midwest   \n",
      "4363  Yes, speaks only English          Employed           500       Midwest   \n",
      "4364  Yes, speaks only English          Employed        498000       Midwest   \n",
      "\n",
      "     Region-division_recode       Moved  Year         state  \n",
      "0        East South Central  Same house  2020     Tennessee  \n",
      "1        East South Central  Same house  2020     Tennessee  \n",
      "2        East South Central  Same house  2020     Tennessee  \n",
      "3        East South Central  Same house  2020     Tennessee  \n",
      "4        East South Central  Same house  2020     Tennessee  \n",
      "...                     ...         ...   ...           ...  \n",
      "4360     West North Central  Same house  2020  North Dakota  \n",
      "4361     West North Central  Same house  2020  North Dakota  \n",
      "4362     West North Central  Same house  2020  North Dakota  \n",
      "4363     West North Central  Same house  2020  North Dakota  \n",
      "4364     West North Central  Same house  2020  North Dakota  \n",
      "\n",
      "[4365 rows x 19 columns]\n"
     ]
    }
   ],
   "source": [
    "typical_yearly_income = pd.read_excel('Wages 2020Census cleaned.xlsx')\n",
    "print(typical_yearly_income)"
   ]
  },
  {
   "cell_type": "code",
   "execution_count": 66,
   "id": "be4643a6-5c67-4cea-8d6d-a69f022625b7",
   "metadata": {},
   "outputs": [
    {
     "ename": "ModuleNotFoundError",
     "evalue": "No module named 'sklearn'",
     "output_type": "error",
     "traceback": [
      "\u001b[1;31m---------------------------------------------------------------------------\u001b[0m",
      "\u001b[1;31mModuleNotFoundError\u001b[0m                       Traceback (most recent call last)",
      "Cell \u001b[1;32mIn[66], line 1\u001b[0m\n\u001b[1;32m----> 1\u001b[0m \u001b[38;5;28;01mfrom\u001b[39;00m \u001b[38;5;21;01msklearn\u001b[39;00m\u001b[38;5;21;01m.\u001b[39;00m\u001b[38;5;21;01mlinear_model\u001b[39;00m \u001b[38;5;28;01mimport\u001b[39;00m LinearRegression\n\u001b[0;32m      2\u001b[0m model \u001b[38;5;241m=\u001b[39m LinearRegression\n\u001b[0;32m      3\u001b[0m model\u001b[38;5;241m.\u001b[39mfit(X_train,y_train)\n",
      "\u001b[1;31mModuleNotFoundError\u001b[0m: No module named 'sklearn'"
     ]
    }
   ],
   "source": [
    "from sklearn.linear_model import LinearRegression    #importing libraries\n",
    "from sklearn.model_selection import train_test_split\n",
    "X = typical_yearly_income['Education'] # independent variable\n",
    "y = typical_yearly_income['Income-wages'] #dependent variable\n",
    "X_train,X_test,y_train,y_test = train_test_split(X,y,test_size = 0.2, random_state = 42)\n",
    "#train the linear regression model\n",
    "model = LinearRegression\n",
    "model.fit(X_train,y_train)\n",
    "#extract coefficients\n",
    "intercept = model.intercept_\n",
    "slope = model.coef_[0]"
   ]
  },
  {
   "cell_type": "markdown",
   "id": "fd3b88c9-2803-41f4-a302-09cbdeb3db79",
   "metadata": {},
   "source": [
    "# (d) Compute the Mean Absolute Error (MSE) from your model. (2 marks)\n"
   ]
  },
  {
   "cell_type": "code",
   "execution_count": null,
   "id": "77a8e6e2-080c-4ddb-a7c9-9c51887f7d45",
   "metadata": {},
   "outputs": [],
   "source": [
    "from sklearn.metrices import mean_absolute_error\n",
    "y_prediction = model.predict(X_test)\n",
    "mae = mean_absolute_error(y_test, y_prediction)\n",
    "print(mae)"
   ]
  },
  {
   "cell_type": "markdown",
   "id": "bb68bfe4-8ef4-40ff-90b5-4e533fa2a3ed",
   "metadata": {},
   "source": [
    "# (e) Extract and interprete the key outputs from a linear regression model (5 marks)"
   ]
  },
  {
   "cell_type": "code",
   "execution_count": null,
   "id": "c9827b84-7f82-4042-8dfd-a884829eb6e6",
   "metadata": {},
   "outputs": [],
   "source": [
    "from sklearn.metrics import r2_score\n",
    "#calculating r2 score\n",
    "r2 = r2_score(y_test,y_prediction)\n",
    "print(intercept)\n",
    "print(slope)\n",
    "print(r2)"
   ]
  },
  {
   "cell_type": "markdown",
   "id": "8e9d957e-eaf4-41ad-ba71-4b5b8b312789",
   "metadata": {},
   "source": [
    "# (f) Plot the linear regression model (5 marks"
   ]
  },
  {
   "cell_type": "code",
   "execution_count": null,
   "id": "81c1b483-0d4e-42aa-aa0f-f1225ac241cf",
   "metadata": {},
   "outputs": [],
   "source": [
    "#scatterplot of actual data\n",
    "plt.scatterplot(X_test, y_test, color='blue',label='Actual Data')\n",
    "#regression line\n",
    "plt,plot(X_test, y_prediction,color = 'red',label = 'Regression Line')\n",
    "plt.title('Linear Regression Model')\n",
    "plt.xlabel('Education')\n",
    "plt.ylabel('Income-wages')\n",
    "plt.legend()\n",
    "plt.show()"
   ]
  },
  {
   "cell_type": "markdown",
   "id": "e753cd81-cdca-47e6-b1fa-28aecf3ce1c5",
   "metadata": {},
   "source": [
    "# 4. Bonus Question."
   ]
  },
  {
   "cell_type": "markdown",
   "id": "48254505-0a04-4107-8f28-460b4b2e106a",
   "metadata": {},
   "source": [
    "# (a) Multiply a 5x3 matrix by a 3x2 matrix (real matrix product) (Hint: create a 5x3 and 3x2 matrices and peform matrix multiplication)."
   ]
  },
  {
   "cell_type": "code",
   "execution_count": 67,
   "id": "c9fec58e-4d6c-4b67-9b48-e2ce299906ae",
   "metadata": {},
   "outputs": [],
   "source": [
    "from numpy import random"
   ]
  },
  {
   "cell_type": "code",
   "execution_count": 71,
   "id": "8e69be4c-d3e4-40d2-b470-0aa5243a4fff",
   "metadata": {},
   "outputs": [
    {
     "name": "stdout",
     "output_type": "stream",
     "text": [
      "[[0.42947495 0.97685275]\n",
      " [0.41526899 0.83062263]\n",
      " [0.76058496 1.77987252]\n",
      " [0.28775399 0.60981895]\n",
      " [0.26105512 0.6439099 ]]\n"
     ]
    }
   ],
   "source": [
    "matrix_A = np.random.rand(5,3)\n",
    "matrix_B = np.random.rand(3,2)\n",
    "product = np.dot(matrix_A,matrix_B)\n",
    "print(product)"
   ]
  },
  {
   "cell_type": "markdown",
   "id": "c78d9c86-59b1-4757-b611-602c205a5350",
   "metadata": {},
   "source": [
    "# (b) Create a 3x3 identity matrix"
   ]
  },
  {
   "cell_type": "code",
   "execution_count": 72,
   "id": "f1d85730-d7aa-41ac-8cd9-1b7c4c8ed915",
   "metadata": {},
   "outputs": [
    {
     "name": "stdout",
     "output_type": "stream",
     "text": [
      "[[1. 0. 0.]\n",
      " [0. 1. 0.]\n",
      " [0. 0. 1.]]\n"
     ]
    }
   ],
   "source": [
    "identity_matrix = np.eye(3)\n",
    "print(identity_matrix)"
   ]
  },
  {
   "cell_type": "markdown",
   "id": "7909d533-dca1-4512-8603-307f9095b895",
   "metadata": {},
   "source": [
    "# (c) Create a vector with values ranging from 10 to 49)."
   ]
  },
  {
   "cell_type": "code",
   "execution_count": 73,
   "id": "5ddd07b3-68ec-4ef9-be3e-68eae85e0c01",
   "metadata": {},
   "outputs": [
    {
     "name": "stdout",
     "output_type": "stream",
     "text": [
      "[10 11 12 13 14 15 16 17 18 19 20 21 22 23 24 25 26 27 28 29 30 31 32 33\n",
      " 34 35 36 37 38 39 40 41 42 43 44 45 46 47 48 49]\n"
     ]
    }
   ],
   "source": [
    "vector = np.arange(10,50)\n",
    "print(vector)"
   ]
  },
  {
   "cell_type": "markdown",
   "id": "4fb1f125-c992-42c3-aebc-191e6959a777",
   "metadata": {},
   "source": [
    "# (d) Create a null vector of size 10."
   ]
  },
  {
   "cell_type": "code",
   "execution_count": 74,
   "id": "86b3ceee-91c1-4c97-8790-c0f25e31e93e",
   "metadata": {},
   "outputs": [
    {
     "name": "stdout",
     "output_type": "stream",
     "text": [
      "[0. 0. 0. 0. 0. 0. 0. 0. 0. 0.]\n"
     ]
    }
   ],
   "source": [
    "null_vector = np.zeros(10)\n",
    "print (null_vector)"
   ]
  },
  {
   "cell_type": "markdown",
   "id": "aa6c82ad-9a3b-4e7c-bc25-f57e35944cc0",
   "metadata": {},
   "source": [
    "# (e) Create a 3x3x3 array with random values\n"
   ]
  },
  {
   "cell_type": "code",
   "execution_count": 76,
   "id": "0ed5411d-6ab5-4212-9c06-a33a1de35d2c",
   "metadata": {},
   "outputs": [
    {
     "name": "stdout",
     "output_type": "stream",
     "text": [
      "[[[0.32323882 0.34897406 0.38196717]\n",
      "  [0.89495575 0.5909845  0.63144172]\n",
      "  [0.35377115 0.97274223 0.39886518]]\n",
      "\n",
      " [[0.91398688 0.32162732 0.63722514]\n",
      "  [0.59667573 0.79335486 0.13688694]\n",
      "  [0.5951641  0.36283787 0.87535494]]\n",
      "\n",
      " [[0.10379638 0.31659726 0.57872103]\n",
      "  [0.08281719 0.59204744 0.86848601]\n",
      "  [0.10795799 0.47227941 0.05863145]]]\n"
     ]
    }
   ],
   "source": [
    "random_array = np.random.rand(3,3,3)\n",
    "print(random_array)"
   ]
  },
  {
   "cell_type": "markdown",
   "id": "60077f8a-bdf9-4e21-a55d-5bf9b88121d8",
   "metadata": {},
   "source": [
    "# (f) Create a 5x5 matrix with values 1,2,3,4 just below the diagonal"
   ]
  },
  {
   "cell_type": "code",
   "execution_count": 77,
   "id": "ff651832-1f40-417b-a652-c7c9c812dba2",
   "metadata": {},
   "outputs": [
    {
     "name": "stdout",
     "output_type": "stream",
     "text": [
      "[[0 0 0 0 0]\n",
      " [1 0 0 0 0]\n",
      " [0 2 0 0 0]\n",
      " [0 0 3 0 0]\n",
      " [0 0 0 4 0]]\n"
     ]
    }
   ],
   "source": [
    "diagonal_matrix = np.diag([1,2,3,4], k=-1)\n",
    "print (diagonal_matrix)"
   ]
  },
  {
   "cell_type": "markdown",
   "id": "14d8c107-02ac-4a4b-8bd6-25284fc621be",
   "metadata": {},
   "source": [
    "# (g) Normalize a 5x5 random matrix"
   ]
  },
  {
   "cell_type": "code",
   "execution_count": 78,
   "id": "b5b3194e-49b7-414d-b420-85a1614e2919",
   "metadata": {},
   "outputs": [
    {
     "name": "stdout",
     "output_type": "stream",
     "text": [
      "[[0.16278529 0.30678803 0.754738   0.35385337 0.14909948]\n",
      " [0.80496801 0.10651362 0.0255433  0.73456247 0.67430986]\n",
      " [0.79038548 0.90889869 0.07135791 0.06240597 0.10487173]\n",
      " [0.17835555 0.23368909 0.61552999 0.57997021 0.33168465]\n",
      " [0.5847575  0.02514586 0.0202471  0.6993624  0.00194578]]\n",
      "[[-0.69334309 -0.21444497  1.27526555 -0.05792365 -0.73885687]\n",
      " [ 1.44231138 -0.88048117 -1.14975755  1.20816945  1.00779227]\n",
      " [ 1.39381546  1.78794514 -0.99739565 -1.0271664  -0.8859415 ]\n",
      " [-0.64156237 -0.45754414  0.81231287  0.69405462 -0.13164834]\n",
      " [ 0.70997533 -1.15107928 -1.16737069  1.09110747 -1.22823387]]\n"
     ]
    }
   ],
   "source": [
    "random_matrix = np.random.rand(5,5)\n",
    "normalised_matrix = (random_matrix -random_matrix.mean())/random_matrix.std()\n",
    "print(random_matrix)\n",
    "print(normalised_matrix)"
   ]
  },
  {
   "cell_type": "markdown",
   "id": "992cab2e-b9d1-4a89-8eef-71e7df680ca1",
   "metadata": {},
   "source": [
    "# (h) How to get the dates of yesterday, today and tomorrow?"
   ]
  },
  {
   "cell_type": "code",
   "execution_count": 79,
   "id": "7cdaa5fc-d1f4-4e57-9498-5d6c92e8503c",
   "metadata": {},
   "outputs": [],
   "source": [
    "from datetime import datetime, timedelta\n"
   ]
  },
  {
   "cell_type": "code",
   "execution_count": 81,
   "id": "29cdca91-52ff-4985-8db3-f456cfaa2f62",
   "metadata": {},
   "outputs": [
    {
     "name": "stdout",
     "output_type": "stream",
     "text": [
      "2024-12-12\n",
      "2024-12-13\n",
      "2024-12-11\n"
     ]
    }
   ],
   "source": [
    "#todays date\n",
    "today = datetime.today().date()\n",
    "#yesterday's date\n",
    "yesterday = today - timedelta(days=1)\n",
    "#tomorrow's date\n",
    "tomorrow = today + timedelta(days=1)\n",
    "print(today)\n",
    "print(tomorrow)\n",
    "print(yesterday)"
   ]
  },
  {
   "cell_type": "markdown",
   "id": "0de26a38-cd02-49f9-a209-777baab11645",
   "metadata": {},
   "source": [
    "# (i) Find indices of non-zero elements from [1,2,0,0,4,0]. In all the above questions explain your approach"
   ]
  },
  {
   "cell_type": "code",
   "execution_count": 83,
   "id": "78b8fe44-fdd1-448b-ac82-fb77979aaa46",
   "metadata": {},
   "outputs": [
    {
     "name": "stdout",
     "output_type": "stream",
     "text": [
      "[0 1 4]\n"
     ]
    }
   ],
   "source": [
    "array = np.array([1,2,0,0,4,0])\n",
    "non_zero = np.nonzero(array)\n",
    "print(non_zero[0])"
   ]
  },
  {
   "cell_type": "code",
   "execution_count": null,
   "id": "957c9de8-d4d8-4798-9c02-a47ea3a8f589",
   "metadata": {},
   "outputs": [],
   "source": []
  }
 ],
 "metadata": {
  "kernelspec": {
   "display_name": "Python 3 (ipykernel)",
   "language": "python",
   "name": "python3"
  },
  "language_info": {
   "codemirror_mode": {
    "name": "ipython",
    "version": 3
   },
   "file_extension": ".py",
   "mimetype": "text/x-python",
   "name": "python",
   "nbconvert_exporter": "python",
   "pygments_lexer": "ipython3",
   "version": "3.12.5"
  }
 },
 "nbformat": 4,
 "nbformat_minor": 5
}
